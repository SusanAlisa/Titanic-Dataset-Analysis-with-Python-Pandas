{
 "cells": [
  {
   "cell_type": "code",
   "execution_count": null,
   "id": "a15ece5f",
   "metadata": {},
   "outputs": [],
   "source": [
    "#1. Introduction to Pandas\n",
    "#- Explain the two primary data structures in Pandas: “Series” and “DataFrame”"
   ]
  },
  {
   "cell_type": "code",
   "execution_count": null,
   "id": "8530a51f",
   "metadata": {},
   "outputs": [],
   "source": [
    "#Series\n",
    "\n",
    "#A Series is a one-dimensional labeled array (like a single column in Excel or a list in Python, but with labels/indexes).\n",
    "\n",
    "#It can hold data of any type: integers, floats, strings, etc.\n",
    "\n",
    "#Each value has an associated index (like a row number)."
   ]
  },
  {
   "cell_type": "code",
   "execution_count": 1,
   "id": "3f5977a2",
   "metadata": {},
   "outputs": [
    {
     "name": "stdout",
     "output_type": "stream",
     "text": [
      "A    10\n",
      "B    20\n",
      "C    30\n",
      "D    40\n",
      "dtype: int64\n"
     ]
    }
   ],
   "source": [
    "import pandas as pd\n",
    "\n",
    "# Creating a Series\n",
    "data = pd.Series([10, 20, 30, 40], index=[\"A\", \"B\", \"C\", \"D\"])\n",
    "print(data)"
   ]
  },
  {
   "cell_type": "code",
   "execution_count": null,
   "id": "d2e39067",
   "metadata": {},
   "outputs": [],
   "source": [
    "#DataFrame\n",
    "\n",
    "#A DataFrame is a two-dimensional labeled data structure (like an Excel sheet or SQL table).\n",
    "\n",
    "#It consists of multiple Series arranged side by side (columns).\n",
    "\n",
    "#Has both row indexes and column names."
   ]
  },
  {
   "cell_type": "code",
   "execution_count": 2,
   "id": "3c792523",
   "metadata": {},
   "outputs": [
    {
     "name": "stdout",
     "output_type": "stream",
     "text": [
      "      Name  Age           City\n",
      "0    Alice   25          Lagos\n",
      "1      Bob   30          Abuja\n",
      "2  Charlie   35  Port Harcourt\n"
     ]
    }
   ],
   "source": [
    "# Creating a DataFrame\n",
    "data = {\n",
    "    \"Name\": [\"Alice\", \"Bob\", \"Charlie\"],\n",
    "    \"Age\": [25, 30, 35],\n",
    "    \"City\": [\"Lagos\", \"Abuja\", \"Port Harcourt\"]\n",
    "}\n",
    "df = pd.DataFrame(data)\n",
    "print(df)"
   ]
  },
  {
   "cell_type": "code",
   "execution_count": null,
   "id": "5791fc72",
   "metadata": {},
   "outputs": [],
   "source": [
    "#2.Discuss the advantages of Pandas compared to other libraries for handling structured data."
   ]
  },
  {
   "cell_type": "code",
   "execution_count": null,
   "id": "e181318d",
   "metadata": {},
   "outputs": [],
   "source": [
    "#Advantages of Pandas for Structured Data\n",
    "\n",
    "#Easy to use – Excel/SQL-like, intuitive data manipulation with Series & DataFrames.\n",
    "\n",
    "#Powerful tools – Built-in functions for cleaning, grouping, aggregation, and time series.\n",
    "\n",
    "#Fast & efficient – Built on NumPy with vectorized operations for handling large datasets.\n",
    "\n",
    "#Great integration – Works seamlessly with NumPy, Matplotlib, Seaborn, and Scikit-learn.\n",
    "\n",
    "#Flexible I/O – Supports CSV, Excel, SQL, JSON, Parquet, etc."
   ]
  },
  {
   "cell_type": "code",
   "execution_count": null,
   "id": "a4368f1e",
   "metadata": {},
   "outputs": [],
   "source": [
    "#2. Understanding Pandas and Its Importance\n",
    "# - Demonstrate how to import Pandas and explain its basic functionality."
   ]
  },
  {
   "cell_type": "code",
   "execution_count": null,
   "id": "282e7515",
   "metadata": {},
   "outputs": [],
   "source": [
    "#How to Import Pandas\n",
    "# import pandas as pd\n",
    "# Here, pd is just an alias (short name) for easier use.\n",
    "#Basic Functionality of Pandas\n",
    "\n",
    "#Data Structures\n",
    "#Series → 1D labeled array (like a column).\n",
    "#DataFrame → 2D labeled data (like an Excel sheet or SQL table).\n",
    "#Core Functions\n",
    "#Read data → pd.read_csv(\"file.csv\")\n",
    "#Explore data → .head(), .info(), .describe()\n",
    "#Select data → df[\"column\"] or df.loc[row, col]\n",
    "#Clean data → handle missing values with .fillna() or .dropna()\n",
    "#Analyze data → .groupby(), .mean(), .sum()\n",
    "#Export data → .to_csv(\"output.csv\")\n",
    "\n",
    "# Why It’s Important\n",
    "#Makes data easy to explore, clean, and analyze.\n",
    "#Works well with large datasets and integrates with data visualization & ML libraries.\n",
    "#Saves time compared to raw Python lists/dictionaries."
   ]
  },
  {
   "cell_type": "code",
   "execution_count": 3,
   "id": "6111fa67",
   "metadata": {},
   "outputs": [
    {
     "name": "stdout",
     "output_type": "stream",
     "text": [
      "   pclass  survived                                             name     sex  \\\n",
      "0       1         1                    Allen, Miss. Elisabeth Walton  female   \n",
      "1       1         1                   Allison, Master. Hudson Trevor    male   \n",
      "2       1         0                     Allison, Miss. Helen Loraine  female   \n",
      "3       1         0             Allison, Mr. Hudson Joshua Creighton    male   \n",
      "4       1         0  Allison, Mrs. Hudson J C (Bessie Waldo Daniels)  female   \n",
      "\n",
      "     age  sibsp  parch     ticket    fare    cabin embarked   boat   body  \\\n",
      "0  29.00      0      0   24160.00  211.34       B5        S   2.00    NaN   \n",
      "1   0.92      1      2  113781.00  151.55  C22 C26        S  11.00    NaN   \n",
      "2   2.00      1      2  113781.00  151.55  C22 C26        S    NaN    NaN   \n",
      "3  30.00      1      2  113781.00  151.55  C22 C26        S    NaN  135.0   \n",
      "4  25.00      1      2  113781.00  151.55  C22 C26        S    NaN    NaN   \n",
      "\n",
      "                         home.dest  \n",
      "0                     St Louis, MO  \n",
      "1  Montreal, PQ / Chesterville, ON  \n",
      "2  Montreal, PQ / Chesterville, ON  \n",
      "3  Montreal, PQ / Chesterville, ON  \n",
      "4  Montreal, PQ / Chesterville, ON  \n"
     ]
    }
   ],
   "source": [
    "import pandas as pd  \n",
    "\n",
    "# Load CSV file into a DataFrame\n",
    "df = pd.read_csv(\"TDI python week3 dataset(Titanic Analysis).csv\")\n",
    "\n",
    "# Show the first 5 rows\n",
    "print(df.head())"
   ]
  },
  {
   "cell_type": "code",
   "execution_count": 4,
   "id": "102570ab",
   "metadata": {},
   "outputs": [
    {
     "name": "stdout",
     "output_type": "stream",
     "text": [
      "Shape: (1309, 14)\n",
      "Columns: Index(['pclass', 'survived', 'name', 'sex', 'age', 'sibsp', 'parch', 'ticket',\n",
      "       'fare', 'cabin', 'embarked', 'boat', 'body', 'home.dest'],\n",
      "      dtype='object')\n",
      "<class 'pandas.core.frame.DataFrame'>\n",
      "RangeIndex: 1309 entries, 0 to 1308\n",
      "Data columns (total 14 columns):\n",
      " #   Column     Non-Null Count  Dtype  \n",
      "---  ------     --------------  -----  \n",
      " 0   pclass     1309 non-null   int64  \n",
      " 1   survived   1309 non-null   int64  \n",
      " 2   name       1309 non-null   object \n",
      " 3   sex        1309 non-null   object \n",
      " 4   age        1046 non-null   float64\n",
      " 5   sibsp      1309 non-null   int64  \n",
      " 6   parch      1309 non-null   int64  \n",
      " 7   ticket     1309 non-null   object \n",
      " 8   fare       1308 non-null   float64\n",
      " 9   cabin      295 non-null    object \n",
      " 10  embarked   1307 non-null   object \n",
      " 11  boat       486 non-null    object \n",
      " 12  body       121 non-null    float64\n",
      " 13  home.dest  745 non-null    object \n",
      "dtypes: float64(3), int64(4), object(7)\n",
      "memory usage: 143.3+ KB\n",
      "None\n",
      "            pclass     survived          age        sibsp        parch  \\\n",
      "count  1309.000000  1309.000000  1046.000000  1309.000000  1309.000000   \n",
      "mean      2.294882     0.381971    29.881138     0.498854     0.385027   \n",
      "std       0.837836     0.486055    14.413493     1.041658     0.865560   \n",
      "min       1.000000     0.000000     0.170000     0.000000     0.000000   \n",
      "25%       2.000000     0.000000    21.000000     0.000000     0.000000   \n",
      "50%       3.000000     0.000000    28.000000     0.000000     0.000000   \n",
      "75%       3.000000     1.000000    39.000000     1.000000     0.000000   \n",
      "max       3.000000     1.000000    80.000000     8.000000     9.000000   \n",
      "\n",
      "              fare        body  \n",
      "count  1308.000000  121.000000  \n",
      "mean     33.296261  160.809917  \n",
      "std      51.758691   97.696922  \n",
      "min       0.000000    1.000000  \n",
      "25%       7.900000   72.000000  \n",
      "50%      14.450000  155.000000  \n",
      "75%      31.280000  256.000000  \n",
      "max     512.330000  328.000000  \n"
     ]
    }
   ],
   "source": [
    "# Shape of dataset (rows, columns)\n",
    "print(\"Shape:\", df.shape)\n",
    "\n",
    "# Column names\n",
    "print(\"Columns:\", df.columns)\n",
    "\n",
    "# General info about data types and missing values\n",
    "print(df.info())\n",
    "\n",
    "# Summary statistics for numeric columns\n",
    "print(df.describe())\n"
   ]
  },
  {
   "cell_type": "code",
   "execution_count": 5,
   "id": "c468f594",
   "metadata": {},
   "outputs": [
    {
     "name": "stdout",
     "output_type": "stream",
     "text": [
      "0    29.00\n",
      "1     0.92\n",
      "2     2.00\n",
      "3    30.00\n",
      "4    25.00\n",
      "Name: age, dtype: float64\n",
      "<class 'pandas.core.series.Series'>\n"
     ]
    }
   ],
   "source": [
    "import pandas as pd\n",
    "\n",
    "#Load Titanic dataset\n",
    "df = pd.read_csv(\"TDI python week3 dataset(Titanic Analysis).csv\")\n",
    "\n",
    "#Extract 'age' column as series\n",
    "age_series = df[\"age\"]\n",
    "\n",
    "#Display the series\n",
    "print(age_series.head())\n",
    "print(type(age_series))"
   ]
  },
  {
   "cell_type": "code",
   "execution_count": null,
   "id": "c0dee6f7",
   "metadata": {},
   "outputs": [],
   "source": [
    "# - Perform basic operations on the “Series”, such as checking for missing values \n",
    "# and calculating summary statistics like the mean and median.\n"
   ]
  },
  {
   "cell_type": "code",
   "execution_count": 6,
   "id": "57dfb5a2",
   "metadata": {},
   "outputs": [
    {
     "name": "stdout",
     "output_type": "stream",
     "text": [
      "Missing values in Age: 263\n",
      "Mean Age: 29.88\n",
      "Median Age: 28.0\n",
      "Min Age: 0.17\n",
      "Max Age: 80.0\n",
      "\n",
      "summary Statistics:\n",
      " count    1046.000000\n",
      "mean       29.881138\n",
      "std        14.413493\n",
      "min         0.170000\n",
      "25%        21.000000\n",
      "50%        28.000000\n",
      "75%        39.000000\n",
      "max        80.000000\n",
      "Name: age, dtype: float64\n"
     ]
    }
   ],
   "source": [
    "#Check for missing values in the \"age\" column\n",
    "missing_values = age_series.isnull().sum()\n",
    "print(\"Missing values in Age:\", missing_values)\n",
    "\n",
    "#Calculate summary statistics\n",
    "mean_age = age_series.mean()\n",
    "median_age = age_series.median()\n",
    "min_age = age_series.min()\n",
    "max_age = age_series.max()\n",
    "\n",
    "print(\"Mean Age:\", round(mean_age, 2))\n",
    "print(\"Median Age:\", median_age)\n",
    "print(\"Min Age:\", min_age)\n",
    "print(\"Max Age:\", max_age)\n",
    "\n",
    "#Quick descriptive summary (gives count, mean, std, mean, quartiles, max)\n",
    "print(\"\\nsummary Statistics:\\n\", age_series.describe())"
   ]
  },
  {
   "cell_type": "code",
   "execution_count": 7,
   "id": "d83a0cc9",
   "metadata": {},
   "outputs": [],
   "source": [
    "# Explore the first few rows of the DataFrame, determine its shape, and view summary statistics for the Titanic dataset."
   ]
  },
  {
   "cell_type": "code",
   "execution_count": 8,
   "id": "77f6a925",
   "metadata": {},
   "outputs": [
    {
     "name": "stdout",
     "output_type": "stream",
     "text": [
      "First 5 rows:\n",
      "   pclass  survived                                             name     sex  \\\n",
      "0       1         1                    Allen, Miss. Elisabeth Walton  female   \n",
      "1       1         1                   Allison, Master. Hudson Trevor    male   \n",
      "2       1         0                     Allison, Miss. Helen Loraine  female   \n",
      "3       1         0             Allison, Mr. Hudson Joshua Creighton    male   \n",
      "4       1         0  Allison, Mrs. Hudson J C (Bessie Waldo Daniels)  female   \n",
      "\n",
      "     age  sibsp  parch     ticket    fare    cabin embarked   boat   body  \\\n",
      "0  29.00      0      0   24160.00  211.34       B5        S   2.00    NaN   \n",
      "1   0.92      1      2  113781.00  151.55  C22 C26        S  11.00    NaN   \n",
      "2   2.00      1      2  113781.00  151.55  C22 C26        S    NaN    NaN   \n",
      "3  30.00      1      2  113781.00  151.55  C22 C26        S    NaN  135.0   \n",
      "4  25.00      1      2  113781.00  151.55  C22 C26        S    NaN    NaN   \n",
      "\n",
      "                         home.dest  \n",
      "0                     St Louis, MO  \n",
      "1  Montreal, PQ / Chesterville, ON  \n",
      "2  Montreal, PQ / Chesterville, ON  \n",
      "3  Montreal, PQ / Chesterville, ON  \n",
      "4  Montreal, PQ / Chesterville, ON  \n",
      "\n",
      "Shape of the dataset (rows, columns):\n",
      "(1309, 14)\n",
      "\n",
      "Summary statistics:\n",
      "             pclass     survived                  name   sex          age  \\\n",
      "count   1309.000000  1309.000000                  1309  1309  1046.000000   \n",
      "unique          NaN          NaN                  1307     2          NaN   \n",
      "top             NaN          NaN  Connolly, Miss. Kate  male          NaN   \n",
      "freq            NaN          NaN                     2   843          NaN   \n",
      "mean       2.294882     0.381971                   NaN   NaN    29.881138   \n",
      "std        0.837836     0.486055                   NaN   NaN    14.413493   \n",
      "min        1.000000     0.000000                   NaN   NaN     0.170000   \n",
      "25%        2.000000     0.000000                   NaN   NaN    21.000000   \n",
      "50%        3.000000     0.000000                   NaN   NaN    28.000000   \n",
      "75%        3.000000     1.000000                   NaN   NaN    39.000000   \n",
      "max        3.000000     1.000000                   NaN   NaN    80.000000   \n",
      "\n",
      "              sibsp        parch    ticket         fare        cabin embarked  \\\n",
      "count   1309.000000  1309.000000      1309  1308.000000          295     1307   \n",
      "unique          NaN          NaN       929          NaN          186        3   \n",
      "top             NaN          NaN  CA. 2343          NaN  C23 C25 C27        S   \n",
      "freq            NaN          NaN        11          NaN            6      914   \n",
      "mean       0.498854     0.385027       NaN    33.296261          NaN      NaN   \n",
      "std        1.041658     0.865560       NaN    51.758691          NaN      NaN   \n",
      "min        0.000000     0.000000       NaN     0.000000          NaN      NaN   \n",
      "25%        0.000000     0.000000       NaN     7.900000          NaN      NaN   \n",
      "50%        0.000000     0.000000       NaN    14.450000          NaN      NaN   \n",
      "75%        1.000000     0.000000       NaN    31.280000          NaN      NaN   \n",
      "max        8.000000     9.000000       NaN   512.330000          NaN      NaN   \n",
      "\n",
      "         boat        body     home.dest  \n",
      "count     486  121.000000           745  \n",
      "unique     27         NaN           369  \n",
      "top     13.00         NaN  New York, NY  \n",
      "freq       39         NaN            64  \n",
      "mean      NaN  160.809917           NaN  \n",
      "std       NaN   97.696922           NaN  \n",
      "min       NaN    1.000000           NaN  \n",
      "25%       NaN   72.000000           NaN  \n",
      "50%       NaN  155.000000           NaN  \n",
      "75%       NaN  256.000000           NaN  \n",
      "max       NaN  328.000000           NaN  \n"
     ]
    }
   ],
   "source": [
    "import pandas as pd\n",
    "\n",
    "# Load the Titanic dataset\n",
    "df = pd.read_csv(\"TDI python week3 dataset(Titanic Analysis).csv\")\n",
    "\n",
    "# 1. View the first 5 rows\n",
    "print(\"First 5 rows:\")\n",
    "print(df.head())\n",
    "\n",
    "# 2. Shape of the dataset (rows, columns)\n",
    "print(\"\\nShape of the dataset (rows, columns):\")\n",
    "print(df.shape)\n",
    "\n",
    "# 3. Summary statistics\n",
    "print(\"\\nSummary statistics:\")\n",
    "print(df.describe(include=\"all\"))\n"
   ]
  },
  {
   "cell_type": "code",
   "execution_count": null,
   "id": "5fe8db47",
   "metadata": {},
   "outputs": [],
   "source": [
    "# Creating and Manipulating DataFrames\n",
    " #- Add new columns to the DataFrame using existing data (e.g., combining 'SibSp'and 'Parch' to create a 'FamilySize' column)."
   ]
  },
  {
   "cell_type": "code",
   "execution_count": 9,
   "id": "f91127a9",
   "metadata": {},
   "outputs": [
    {
     "name": "stdout",
     "output_type": "stream",
     "text": [
      "   sibsp  parch  FamilySize\n",
      "0      0      0           1\n",
      "1      1      2           4\n",
      "2      1      2           4\n",
      "3      1      2           4\n",
      "4      1      2           4\n"
     ]
    }
   ],
   "source": [
    "import pandas as pd\n",
    "\n",
    "# Load the Titanic dataset\n",
    "df = pd.read_csv(\"TDI python week3 dataset(Titanic Analysis).csv\")\n",
    "\n",
    "# Add a new column 'FamilySize'\n",
    "df[\"FamilySize\"] = df[\"sibsp\"] + df[\"parch\"] + 1  # +1 includes the passenger themselves\n",
    "\n",
    "# Display the first 5 rows with the new column\n",
    "print(df[[\"sibsp\", \"parch\", \"FamilySize\"]].head())\n"
   ]
  },
  {
   "cell_type": "code",
   "execution_count": null,
   "id": "5370aa6e",
   "metadata": {},
   "outputs": [],
   "source": [
    "# Modify existing columns or create new categorical columns based on existing data (e.g., binning numerical data into categories)."
   ]
  },
  {
   "cell_type": "code",
   "execution_count": 10,
   "id": "df615481",
   "metadata": {},
   "outputs": [
    {
     "name": "stdout",
     "output_type": "stream",
     "text": [
      "   SibSp  Parch  FamilySize FamilyCategory\n",
      "0      0      0           1          Alone\n",
      "1      1      2           4          Small\n",
      "2      1      2           4          Small\n",
      "3      1      2           4          Small\n",
      "4      1      2           4          Small\n"
     ]
    }
   ],
   "source": [
    "import pandas as pd\n",
    "\n",
    "# Example DataFrame\n",
    "data = {\n",
    "    'SibSp': [0, 1, 1, 1, 1],\n",
    "    'Parch': [0, 2, 2, 2, 2],\n",
    "}\n",
    "df = pd.DataFrame(data)\n",
    "\n",
    "# Create FamilySize column\n",
    "df['FamilySize'] = df['SibSp'] + df['Parch'] + 1\n",
    "\n",
    "# Create FamilyCategory column\n",
    "df['FamilyCategory'] = pd.cut(\n",
    "    df['FamilySize'],\n",
    "    bins=[0, 1, 4, 20],  # ranges\n",
    "    labels=['Alone', 'Small', 'Large']\n",
    ")\n",
    "\n",
    "print(df)\n"
   ]
  },
  {
   "cell_type": "code",
   "execution_count": null,
   "id": "312cc0da",
   "metadata": {},
   "outputs": [],
   "source": [
    "#Identify missing values in the dataset and decide whether to fill them or drop them, depending on the situation."
   ]
  },
  {
   "cell_type": "code",
   "execution_count": 11,
   "id": "ddf5c97a",
   "metadata": {},
   "outputs": [
    {
     "name": "stdout",
     "output_type": "stream",
     "text": [
      "SibSp             0\n",
      "Parch             0\n",
      "FamilySize        0\n",
      "FamilyCategory    0\n",
      "dtype: int64\n"
     ]
    }
   ],
   "source": [
    "# Check missing values in each column\n",
    "print(df.isnull().sum())\n"
   ]
  },
  {
   "cell_type": "code",
   "execution_count": 13,
   "id": "5a72f05a",
   "metadata": {},
   "outputs": [
    {
     "data": {
      "text/plain": [
       "SibSp             0\n",
       "Parch             0\n",
       "FamilySize        0\n",
       "FamilyCategory    0\n",
       "dtype: int64"
      ]
     },
     "execution_count": 13,
     "metadata": {},
     "output_type": "execute_result"
    }
   ],
   "source": [
    "# Check missing values for all columns\n",
    "df.isnull().sum()"
   ]
  },
  {
   "cell_type": "code",
   "execution_count": 14,
   "id": "bfca9111",
   "metadata": {},
   "outputs": [
    {
     "data": {
      "text/plain": [
       "pclass          0\n",
       "survived        0\n",
       "name            0\n",
       "sex             0\n",
       "age           263\n",
       "sibsp           0\n",
       "parch           0\n",
       "ticket          0\n",
       "fare            1\n",
       "cabin        1014\n",
       "embarked        2\n",
       "boat          823\n",
       "body         1188\n",
       "home.dest     564\n",
       "dtype: int64"
      ]
     },
     "execution_count": 14,
     "metadata": {},
     "output_type": "execute_result"
    }
   ],
   "source": [
    "import pandas as pd\n",
    "\n",
    "# Load the Titanic dataset\n",
    "df = pd.read_csv(\"TDI python week3 dataset(Titanic Analysis).csv\")\n",
    "\n",
    "# Run on the full dataset, not just selected columns\n",
    "df.isnull().sum()\n"
   ]
  },
  {
   "cell_type": "code",
   "execution_count": 15,
   "id": "5336a8e2",
   "metadata": {},
   "outputs": [
    {
     "name": "stdout",
     "output_type": "stream",
     "text": [
      "pclass        0.000000\n",
      "survived      0.000000\n",
      "name          0.000000\n",
      "sex           0.000000\n",
      "age          20.091673\n",
      "sibsp         0.000000\n",
      "parch         0.000000\n",
      "ticket        0.000000\n",
      "fare          0.076394\n",
      "cabin        77.463713\n",
      "embarked      0.152788\n",
      "boat         62.872422\n",
      "body         90.756303\n",
      "home.dest    43.086325\n",
      "dtype: float64\n"
     ]
    }
   ],
   "source": [
    "import pandas as pd\n",
    "\n",
    "# Load dataset\n",
    "df = pd.read_csv(\"TDI python week3 dataset(Titanic Analysis).csv\")\n",
    "\n",
    "# Missing values percentage\n",
    "missing_percentage = (df.isnull().sum() / len(df)) * 100\n",
    "print(missing_percentage)\n"
   ]
  },
  {
   "cell_type": "code",
   "execution_count": 16,
   "id": "ca44deda",
   "metadata": {},
   "outputs": [
    {
     "name": "stdout",
     "output_type": "stream",
     "text": [
      "pclass      0\n",
      "survived    0\n",
      "name        0\n",
      "sex         0\n",
      "age         0\n",
      "sibsp       0\n",
      "parch       0\n",
      "fare        0\n",
      "embarked    0\n",
      "dtype: int64\n"
     ]
    }
   ],
   "source": [
    "import pandas as pd\n",
    "\n",
    "# Load dataset\n",
    "df = pd.read_csv(\"TDI python week3 dataset(Titanic Analysis).csv\")\n",
    "\n",
    "# 1. Drop columns with too many missing values\n",
    "df = df.drop(columns=[\"cabin\", \"boat\", \"body\", \"home.dest\", \"ticket\"])\n",
    "\n",
    "# 2. Fill missing 'age' with median (you can also use mean or group-wise median by pclass/sex)\n",
    "df[\"age\"].fillna(df[\"age\"].median(), inplace=True)\n",
    "\n",
    "# 3. Fill missing 'fare' with median\n",
    "df[\"fare\"].fillna(df[\"fare\"].median(), inplace=True)\n",
    "\n",
    "# 4. Fill missing 'embarked' with the most common value (mode)\n",
    "df[\"embarked\"].fillna(df[\"embarked\"].mode()[0], inplace=True)\n",
    "\n",
    "# 5. Double check missing values again\n",
    "print(df.isnull().sum())\n"
   ]
  },
  {
   "cell_type": "code",
   "execution_count": 17,
   "id": "aadcc814",
   "metadata": {},
   "outputs": [
    {
     "name": "stdout",
     "output_type": "stream",
     "text": [
      "Original shape: (1309, 14)\n",
      "Cleaned shape: (1309, 9)\n"
     ]
    }
   ],
   "source": [
    "# Shape before cleaning\n",
    "print(\"Original shape:\", (1309, 14))  # From earlier\n",
    "\n",
    "# Shape after cleaning\n",
    "print(\"Cleaned shape:\", df.shape)\n"
   ]
  },
  {
   "cell_type": "code",
   "execution_count": 18,
   "id": "0bea34db",
   "metadata": {},
   "outputs": [
    {
     "name": "stdout",
     "output_type": "stream",
     "text": [
      "Cleaned dataset saved successfully!\n"
     ]
    }
   ],
   "source": [
    "# Save cleaned dataset\n",
    "df.to_csv(\"titanic_cleaned.csv\", index=False)\n",
    "\n",
    "print(\"Cleaned dataset saved successfully!\")"
   ]
  },
  {
   "cell_type": "code",
   "execution_count": null,
   "id": "0b1c6646",
   "metadata": {},
   "outputs": [],
   "source": [
    "#Sort the data by various criteria (e.g., sort passengers by age in descending order)"
   ]
  },
  {
   "cell_type": "code",
   "execution_count": 19,
   "id": "d45d22f1",
   "metadata": {},
   "outputs": [
    {
     "name": "stdout",
     "output_type": "stream",
     "text": [
      "Top 5 passengers sorted by age (descending):\n",
      "      pclass  survived                                               name  \\\n",
      "14         1         1               Barkworth, Mr. Algernon Henry Wilson   \n",
      "61         1         1  Cavendish, Mrs. Tyrell William (Julia Florence...   \n",
      "1235       3         0                                Svensson, Mr. Johan   \n",
      "9          1         0                            Artagaveytia, Mr. Ramon   \n",
      "135        1         0                          Goldschmidt, Mr. George B   \n",
      "\n",
      "         sex   age  sibsp  parch   fare embarked  \n",
      "14      male  80.0      0      0  30.00        S  \n",
      "61    female  76.0      1      0  78.85        S  \n",
      "1235    male  74.0      0      0   7.78        S  \n",
      "9       male  71.0      0      0  49.50        C  \n",
      "135     male  71.0      0      0  34.65        C  \n",
      "\n",
      "Top 5 passengers sorted by fare (descending):\n",
      "     pclass  survived                                               name  \\\n",
      "49        1         1                 Cardeza, Mr. Thomas Drake Martinez   \n",
      "50        1         1  Cardeza, Mrs. James Warburton Martinez (Charlo...   \n",
      "302       1         1                                   Ward, Miss. Anna   \n",
      "183       1         1                             Lesurer, Mr. Gustave J   \n",
      "111       1         1                     Fortune, Miss. Alice Elizabeth   \n",
      "\n",
      "        sex   age  sibsp  parch    fare embarked  \n",
      "49     male  36.0      0      1  512.33        C  \n",
      "50   female  58.0      0      1  512.33        C  \n",
      "302  female  35.0      0      0  512.33        C  \n",
      "183    male  35.0      0      0  512.33        C  \n",
      "111  female  24.0      3      2  263.00        S  \n",
      "\n",
      "Top 5 passengers sorted by class then fare:\n",
      "     pclass  survived                                               name  \\\n",
      "49        1         1                 Cardeza, Mr. Thomas Drake Martinez   \n",
      "50        1         1  Cardeza, Mrs. James Warburton Martinez (Charlo...   \n",
      "183       1         1                             Lesurer, Mr. Gustave J   \n",
      "302       1         1                                   Ward, Miss. Anna   \n",
      "111       1         1                     Fortune, Miss. Alice Elizabeth   \n",
      "\n",
      "        sex   age  sibsp  parch    fare embarked  \n",
      "49     male  36.0      0      1  512.33        C  \n",
      "50   female  58.0      0      1  512.33        C  \n",
      "183    male  35.0      0      0  512.33        C  \n",
      "302  female  35.0      0      0  512.33        C  \n",
      "111  female  24.0      3      2  263.00        S  \n"
     ]
    }
   ],
   "source": [
    "import pandas as pd\n",
    "\n",
    "# Load the cleaned Titanic dataset\n",
    "df = pd.read_csv(\"titanic_cleaned.csv\")\n",
    "\n",
    "# Sort passengers by Age in descending order\n",
    "sorted_by_age = df.sort_values(by=\"age\", ascending=False)\n",
    "print(\"Top 5 passengers sorted by age (descending):\")\n",
    "print(sorted_by_age.head())\n",
    "\n",
    "# Example 2: Sort by Fare in descending order\n",
    "sorted_by_fare = df.sort_values(by=\"fare\", ascending=False)\n",
    "print(\"\\nTop 5 passengers sorted by fare (descending):\")\n",
    "print(sorted_by_fare.head())\n",
    "\n",
    "# Example 3: Sort by multiple columns (e.g., by 'pclass' then 'fare')\n",
    "sorted_by_class_fare = df.sort_values(by=[\"pclass\", \"fare\"], ascending=[True, False])\n",
    "print(\"\\nTop 5 passengers sorted by class then fare:\")\n",
    "print(sorted_by_class_fare.head())\n"
   ]
  },
  {
   "cell_type": "code",
   "execution_count": null,
   "id": "5c4f7680",
   "metadata": {},
   "outputs": [],
   "source": [
    "#5. Data Aggregation and Grouping\n",
    " #- Group data by specific categories (e.g., passenger class) and perform aggregation functions such as calculating the average fare and the survival rate for each group."
   ]
  },
  {
   "cell_type": "code",
   "execution_count": 21,
   "id": "04095210",
   "metadata": {},
   "outputs": [
    {
     "name": "stdout",
     "output_type": "stream",
     "text": [
      "   Passenger Class   Avg Fare  Survival Rate    Avg Age\n",
      "0                1  87.509350       0.619195  37.812446\n",
      "1                2  21.179278       0.429603  29.419675\n",
      "2                3  13.305755       0.255289  25.750353\n"
     ]
    }
   ],
   "source": [
    "# Group by passenger class (lowercase 'pclass')\n",
    "grouped = df.groupby(\"pclass\").agg({\n",
    "    \"fare\": \"mean\",        # average fare\n",
    "    \"survived\": \"mean\",    # survival rate\n",
    "    \"age\": \"mean\"          # average age\n",
    "}).reset_index()\n",
    "\n",
    "# Rename columns for clarity\n",
    "grouped.columns = [\"Passenger Class\", \"Avg Fare\", \"Survival Rate\", \"Avg Age\"]\n",
    "\n",
    "print(grouped)\n"
   ]
  },
  {
   "cell_type": "code",
   "execution_count": null,
   "id": "28d267ed",
   "metadata": {},
   "outputs": [],
   "source": [
    "#6. Data Visualization with Pandas\n",
    " #- Use Pandas' built-in plotting functions to create basic visualizations.\n",
    " #- Visualize the distribution of ages in the dataset or the survival rate across different passenger classes."
   ]
  },
  {
   "cell_type": "code",
   "execution_count": 23,
   "id": "2ebaa190",
   "metadata": {},
   "outputs": [
    {
     "data": {
      "image/png": "[encoded data removed]",
      "text/plain": [
       "<Figure size 800x500 with 1 Axes>"
      ]
     },
     "metadata": {},
     "output_type": "display_data"
    }
   ],
   "source": [
    "import matplotlib.pyplot as plt\n",
    "\n",
    "# Age distribution\n",
    "df[\"age\"].plot(kind=\"hist\", bins=30, edgecolor=\"black\", figsize=(8,5), title=\"Age Distribution\")\n",
    "plt.xlabel(\"Age\")\n",
    "plt.ylabel(\"Number of Passengers\")\n",
    "plt.show()\n"
   ]
  },
  {
   "cell_type": "code",
   "execution_count": null,
   "id": "30b6c6cf",
   "metadata": {},
   "outputs": [],
   "source": []
  }
 ],
 "metadata": {
  "kernelspec": {
   "display_name": "Python 3 (ipykernel)",
   "language": "python",
   "name": "python3"
  },
  "language_info": {
   "codemirror_mode": {
    "name": "ipython",
    "version": 3
   },
   "file_extension": ".py",
   "mimetype": "text/x-python",
   "name": "python",
   "nbconvert_exporter": "python",
   "pygments_lexer": "ipython3",
   "version": "3.11.5"
  }
 },
 "nbformat": 4,
 "nbformat_minor": 5
}
